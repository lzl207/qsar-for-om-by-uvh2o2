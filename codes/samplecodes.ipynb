{
 "cells": [
  {
   "cell_type": "code",
   "execution_count": null,
   "id": "d782e8d7",
   "metadata": {},
   "outputs": [],
   "source": [
    "#代码示例，仅做参考"
   ]
  },
  {
   "cell_type": "code",
   "execution_count": null,
   "id": "ead111a2",
   "metadata": {},
   "outputs": [],
   "source": [
    "from sklearn.ensemble import GradientBoostingRegressor\n",
    "from sklearn.model_selection import cross_val_score,KFold\n",
    "\n",
    "#X = pd.DataFrame(StandardScaler().fit_transform(X), columns=X.columns)\n",
    "\n",
    "# 创建模型\n",
    "model = GradientBoostingRegressor()\n",
    "\n",
    "# 定义交叉验证的折数\n",
    "n_folds = 10\n",
    "\n",
    "# 创建KFold对象\n",
    "kf = KFold(n_splits=n_folds, shuffle=True)\n",
    "\n",
    "# 进行交叉验证并计算R²得分\n",
    "scores = cross_val_score(model, X, y, cv=kf, scoring='r2')#neg_mean_squared_error\n",
    "\n",
    "# 打印每个折的R²得分和平均得分\n",
    "for fold, score in enumerate(scores):\n",
    "    print(f\"Fold {fold+1}: R² score = {score}\")\n",
    "\n",
    "print(f\"Average R² score: {scores.mean()}\")"
   ]
  },
  {
   "cell_type": "code",
   "execution_count": null,
   "id": "fb91a648",
   "metadata": {},
   "outputs": [],
   "source": [
    "import numpy as np\n",
    "from gplearn.genetic import SymbolicRegressor\n",
    "from sklearn.model_selection import train_test_split\n",
    "\n",
    "\n",
    "# 创建 SymbolicRegressor 模型\n",
    "est_gp = SymbolicRegressor(population_size=10000,\n",
    "                           generations=100, stopping_criteria=0.01,\n",
    "                           p_crossover=0.7, p_subtree_mutation=0.1,\n",
    "                           p_hoist_mutation=0.05, p_point_mutation=0.1,\n",
    "                           max_samples=0.9, verbose=1,\n",
    "                           parsimony_coefficient=0.005, random_state=42)\n",
    "\n",
    "\n",
    "# 拟合模型\n",
    "est_gp.fit(X_train, y_train)\n",
    "\n",
    "# 输出拟合得到的表达式\n",
    "best_expression = est_gp._program\n",
    "print(f\"拟合得到的表达式: {best_expression}\")\n"
   ]
  },
  {
   "cell_type": "code",
   "execution_count": null,
   "id": "9dff574e",
   "metadata": {},
   "outputs": [],
   "source": [
    "model = GradientBoostingRegressor()\n",
    "model.fit(X, y)\n",
    "# 获取特征重要性\n",
    "importance = model.feature_importances_\n",
    "\n",
    "\n",
    "# 将特征重要性与特征名对应起来\n",
    "feature_importance = pd.DataFrame({'feature_name': X.columns, 'importance': importance})\n",
    "\n",
    "# 按照重要性排序特征\n",
    "feature_importance = feature_importance.sort_values('importance', ascending=False)\n",
    "\n",
    "# 打印特征重要性排名\n",
    "print(feature_importance[0:15])"
   ]
  },
  {
   "cell_type": "code",
   "execution_count": null,
   "id": "73f9119b",
   "metadata": {},
   "outputs": [],
   "source": [
    "import shap\n",
    "import matplotlib.pyplot as plt\n",
    "\n",
    "# 训练模型\n",
    "model = GradientBoostingRegressor()\n",
    "model.fit(X, y)\n",
    "\n",
    "# 计算 Shap 值\n",
    "explainer = shap.TreeExplainer(model)\n",
    "shap_values = explainer.shap_values(X)\n",
    "\n",
    "# 可视化 Shap 值\n",
    "shap.summary_plot(shap_values, X, max_display=10,plot_size=(4,3.5))"
   ]
  }
 ],
 "metadata": {
  "kernelspec": {
   "display_name": "Python 3 (ipykernel)",
   "language": "python",
   "name": "python3"
  },
  "language_info": {
   "codemirror_mode": {
    "name": "ipython",
    "version": 3
   },
   "file_extension": ".py",
   "mimetype": "text/x-python",
   "name": "python",
   "nbconvert_exporter": "python",
   "pygments_lexer": "ipython3",
   "version": "3.7.16"
  }
 },
 "nbformat": 4,
 "nbformat_minor": 5
}
